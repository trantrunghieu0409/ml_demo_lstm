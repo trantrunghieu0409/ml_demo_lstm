{
 "cells": [
  {
   "cell_type": "code",
   "execution_count": 16,
   "metadata": {},
   "outputs": [],
   "source": [
    "from_symbol = 'BTC'\n",
    "to_symbol = 'USD'\n",
    "exchange = 'Coinbase'\n",
    "datetime_interval = 'day'"
   ]
  },
  {
   "cell_type": "code",
   "execution_count": 12,
   "metadata": {},
   "outputs": [],
   "source": [
    "from_symbol = 'ETH'\n",
    "to_symbol = 'USD'\n",
    "exchange = 'Coinbase'\n",
    "datetime_interval = 'day'"
   ]
  },
  {
   "cell_type": "code",
   "execution_count": 14,
   "metadata": {},
   "outputs": [],
   "source": [
    "from_symbol = 'ADA'\n",
    "to_symbol = 'USD'\n",
    "exchange = 'Coinbase'\n",
    "datetime_interval = 'day'"
   ]
  },
  {
   "cell_type": "code",
   "execution_count": 17,
   "metadata": {},
   "outputs": [
    {
     "name": "stdout",
     "output_type": "stream",
     "text": [
      "Downloading day trading data for BTC USD from Coinbase\n",
      "Saving data to BTC_USD_Coinbase_day_2023-07-11.csv\n"
     ]
    }
   ],
   "source": [
    "import requests\n",
    "from datetime import datetime\n",
    "import pandas as pd\n",
    "\n",
    "def get_filename(from_symbol, to_symbol, exchange, datetime_interval, download_date):\n",
    "    return '%s_%s_%s_%s_%s.csv' % (from_symbol, to_symbol, exchange, datetime_interval, download_date)\n",
    "def download_data(from_symbol, to_symbol, exchange, datetime_interval):\n",
    "    supported_intervals = {'minute', 'hour', 'day'}\n",
    "    assert datetime_interval in supported_intervals,\\\n",
    "        'datetime_interval should be one of %s' % supported_intervals\n",
    "    print('Downloading %s trading data for %s %s from %s' %\n",
    "          (datetime_interval, from_symbol, to_symbol, exchange))\n",
    "    base_url = 'https://min-api.cryptocompare.com/data/histo'\n",
    "    url = '%s%s' % (base_url, datetime_interval)\n",
    "    params = {'fsym': from_symbol, 'tsym': to_symbol,\n",
    "              'limit': 2000, 'aggregate': 1,\n",
    "              'e': exchange}\n",
    "    request = requests.get(url, params=params)\n",
    "    data = request.json()\n",
    "    return data\n",
    "def convert_to_dataframe(data):\n",
    "    df = pd.json_normalize(data, ['Data'])\n",
    "    df['datetime'] = pd.to_datetime(df.time, unit='s')\n",
    "    df = df[['datetime', 'low', 'high', 'open',\n",
    "             'close', 'volumefrom', 'volumeto']]\n",
    "    return df\n",
    "def filter_empty_datapoints(df):\n",
    "    indices = df[df.sum(axis=1) == 0].index\n",
    "    print('Filtering %d empty datapoints' % indices.shape[0])\n",
    "    df = df.drop(indices)\n",
    "    return df\n",
    "data = download_data(from_symbol, to_symbol, exchange, datetime_interval)\n",
    "df = convert_to_dataframe(data)\n",
    "# df = filter_empty_datapoints(df)\n",
    "current_datetime = datetime.now().date().isoformat()\n",
    "filename = get_filename(from_symbol, to_symbol, exchange, datetime_interval, current_datetime)\n",
    "print('Saving data to %s' % filename)\n",
    "df.to_csv(filename, index=False)"
   ]
  }
 ],
 "metadata": {
  "kernelspec": {
   "display_name": "Python 3",
   "language": "python",
   "name": "python3"
  },
  "language_info": {
   "codemirror_mode": {
    "name": "ipython",
    "version": 3
   },
   "file_extension": ".py",
   "mimetype": "text/x-python",
   "name": "python",
   "nbconvert_exporter": "python",
   "pygments_lexer": "ipython3",
   "version": "3.11.4"
  },
  "orig_nbformat": 4
 },
 "nbformat": 4,
 "nbformat_minor": 2
}
